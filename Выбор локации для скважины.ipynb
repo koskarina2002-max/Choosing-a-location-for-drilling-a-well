{
 "cells": [
  {
   "cell_type": "markdown",
   "metadata": {},
   "source": [
    "# Выбор локации для скважины"
   ]
  },
  {
   "cell_type": "markdown",
   "metadata": {},
   "source": [
    "Компании **«ГлавРосГосНефть»** нужно решить, где бурить новую скважину.\n",
    "\n",
    "Были предоставлены пробы нефти в трёх регионах: в каждом 100 000 месторождений, где измерили качество нефти и объём её запасов. \n",
    "**Цель:** построить модель машинного обучения, которая поможет определить регион, где добыча принесёт наибольшую прибыль. Проанализировать возможную прибыль и риски техникой *Bootstrap.*\n",
    "\n",
    "Шаги для выбора локации:\n",
    "- В избранном регионе ищут месторождения, для каждого определяют значения признаков;\n",
    "- Строят модель и оценивают объём запасов;\n",
    "- Выбирают месторождения с самым высокими оценками значений. Количество месторождений зависит от бюджета компании и стоимости разработки одной скважины;\n",
    "- Прибыль равна суммарной прибыли отобранных месторождений."
   ]
  },
  {
   "cell_type": "markdown",
   "metadata": {},
   "source": [
    "**Задача:** необходимо создать модель, которая будет отбирать 200 лучших точек по объему сырья и рассчитывать суммарную прибыль для региона. Далее необходимо на основе полученных данных и риске убытка предоставить рекомендации по тому, где следует бурить новую скважину.\n",
    "\n",
    "**Этапы проекта:**\n",
    "1. Загрузка и подготовка данных.\n",
    "2. Обучение и проверка модели для каждого региона.\n",
    "3. Подготовка к расчету прибыли.\n",
    "4. Расчет предсказанной прибыли по каждому региону.\n",
    "5. Расчет рисков, средней прибыли и доверительного интервала.\n",
    "6. Выводы."
   ]
  },
  {
   "cell_type": "markdown",
   "metadata": {},
   "source": [
    "## Загрузка и подготовка данных"
   ]
  },
  {
   "cell_type": "code",
   "execution_count": 1,
   "metadata": {},
   "outputs": [],
   "source": [
    "# Загружаем необходимые библиотеки\n",
    "import pandas as pd\n",
    "import seaborn as sns\n",
    "from sklearn.linear_model import LinearRegression\n",
    "from sklearn.model_selection import train_test_split\n",
    "from sklearn.preprocessing import StandardScaler\n",
    "\n",
    "RANDOM_STATE = 42\n",
    "\n",
    "from sklearn.metrics import mean_squared_error\n",
    "import numpy as np"
   ]
  },
  {
   "cell_type": "markdown",
   "metadata": {},
   "source": [
    "### Загрузка и просмотр данных ###"
   ]
  },
  {
   "cell_type": "code",
   "execution_count": 2,
   "metadata": {},
   "outputs": [
    {
     "data": {
      "text/html": [
       "<div>\n",
       "<style scoped>\n",
       "    .dataframe tbody tr th:only-of-type {\n",
       "        vertical-align: middle;\n",
       "    }\n",
       "\n",
       "    .dataframe tbody tr th {\n",
       "        vertical-align: top;\n",
       "    }\n",
       "\n",
       "    .dataframe thead th {\n",
       "        text-align: right;\n",
       "    }\n",
       "</style>\n",
       "<table border=\"1\" class=\"dataframe\">\n",
       "  <thead>\n",
       "    <tr style=\"text-align: right;\">\n",
       "      <th></th>\n",
       "      <th>id</th>\n",
       "      <th>f0</th>\n",
       "      <th>f1</th>\n",
       "      <th>f2</th>\n",
       "      <th>product</th>\n",
       "    </tr>\n",
       "  </thead>\n",
       "  <tbody>\n",
       "    <tr>\n",
       "      <th>0</th>\n",
       "      <td>txEyH</td>\n",
       "      <td>0.705745</td>\n",
       "      <td>-0.497823</td>\n",
       "      <td>1.221170</td>\n",
       "      <td>105.280062</td>\n",
       "    </tr>\n",
       "    <tr>\n",
       "      <th>1</th>\n",
       "      <td>2acmU</td>\n",
       "      <td>1.334711</td>\n",
       "      <td>-0.340164</td>\n",
       "      <td>4.365080</td>\n",
       "      <td>73.037750</td>\n",
       "    </tr>\n",
       "    <tr>\n",
       "      <th>2</th>\n",
       "      <td>409Wp</td>\n",
       "      <td>1.022732</td>\n",
       "      <td>0.151990</td>\n",
       "      <td>1.419926</td>\n",
       "      <td>85.265647</td>\n",
       "    </tr>\n",
       "    <tr>\n",
       "      <th>3</th>\n",
       "      <td>iJLyR</td>\n",
       "      <td>-0.032172</td>\n",
       "      <td>0.139033</td>\n",
       "      <td>2.978566</td>\n",
       "      <td>168.620776</td>\n",
       "    </tr>\n",
       "    <tr>\n",
       "      <th>4</th>\n",
       "      <td>Xdl7t</td>\n",
       "      <td>1.988431</td>\n",
       "      <td>0.155413</td>\n",
       "      <td>4.751769</td>\n",
       "      <td>154.036647</td>\n",
       "    </tr>\n",
       "  </tbody>\n",
       "</table>\n",
       "</div>"
      ],
      "text/plain": [
       "      id        f0        f1        f2     product\n",
       "0  txEyH  0.705745 -0.497823  1.221170  105.280062\n",
       "1  2acmU  1.334711 -0.340164  4.365080   73.037750\n",
       "2  409Wp  1.022732  0.151990  1.419926   85.265647\n",
       "3  iJLyR -0.032172  0.139033  2.978566  168.620776\n",
       "4  Xdl7t  1.988431  0.155413  4.751769  154.036647"
      ]
     },
     "metadata": {},
     "output_type": "display_data"
    },
    {
     "data": {
      "text/html": [
       "<div>\n",
       "<style scoped>\n",
       "    .dataframe tbody tr th:only-of-type {\n",
       "        vertical-align: middle;\n",
       "    }\n",
       "\n",
       "    .dataframe tbody tr th {\n",
       "        vertical-align: top;\n",
       "    }\n",
       "\n",
       "    .dataframe thead th {\n",
       "        text-align: right;\n",
       "    }\n",
       "</style>\n",
       "<table border=\"1\" class=\"dataframe\">\n",
       "  <thead>\n",
       "    <tr style=\"text-align: right;\">\n",
       "      <th></th>\n",
       "      <th>id</th>\n",
       "      <th>f0</th>\n",
       "      <th>f1</th>\n",
       "      <th>f2</th>\n",
       "      <th>product</th>\n",
       "    </tr>\n",
       "  </thead>\n",
       "  <tbody>\n",
       "    <tr>\n",
       "      <th>0</th>\n",
       "      <td>kBEdx</td>\n",
       "      <td>-15.001348</td>\n",
       "      <td>-8.276000</td>\n",
       "      <td>-0.005876</td>\n",
       "      <td>3.179103</td>\n",
       "    </tr>\n",
       "    <tr>\n",
       "      <th>1</th>\n",
       "      <td>62mP7</td>\n",
       "      <td>14.272088</td>\n",
       "      <td>-3.475083</td>\n",
       "      <td>0.999183</td>\n",
       "      <td>26.953261</td>\n",
       "    </tr>\n",
       "    <tr>\n",
       "      <th>2</th>\n",
       "      <td>vyE1P</td>\n",
       "      <td>6.263187</td>\n",
       "      <td>-5.948386</td>\n",
       "      <td>5.001160</td>\n",
       "      <td>134.766305</td>\n",
       "    </tr>\n",
       "    <tr>\n",
       "      <th>3</th>\n",
       "      <td>KcrkZ</td>\n",
       "      <td>-13.081196</td>\n",
       "      <td>-11.506057</td>\n",
       "      <td>4.999415</td>\n",
       "      <td>137.945408</td>\n",
       "    </tr>\n",
       "    <tr>\n",
       "      <th>4</th>\n",
       "      <td>AHL4O</td>\n",
       "      <td>12.702195</td>\n",
       "      <td>-8.147433</td>\n",
       "      <td>5.004363</td>\n",
       "      <td>134.766305</td>\n",
       "    </tr>\n",
       "  </tbody>\n",
       "</table>\n",
       "</div>"
      ],
      "text/plain": [
       "      id         f0         f1        f2     product\n",
       "0  kBEdx -15.001348  -8.276000 -0.005876    3.179103\n",
       "1  62mP7  14.272088  -3.475083  0.999183   26.953261\n",
       "2  vyE1P   6.263187  -5.948386  5.001160  134.766305\n",
       "3  KcrkZ -13.081196 -11.506057  4.999415  137.945408\n",
       "4  AHL4O  12.702195  -8.147433  5.004363  134.766305"
      ]
     },
     "metadata": {},
     "output_type": "display_data"
    },
    {
     "data": {
      "text/html": [
       "<div>\n",
       "<style scoped>\n",
       "    .dataframe tbody tr th:only-of-type {\n",
       "        vertical-align: middle;\n",
       "    }\n",
       "\n",
       "    .dataframe tbody tr th {\n",
       "        vertical-align: top;\n",
       "    }\n",
       "\n",
       "    .dataframe thead th {\n",
       "        text-align: right;\n",
       "    }\n",
       "</style>\n",
       "<table border=\"1\" class=\"dataframe\">\n",
       "  <thead>\n",
       "    <tr style=\"text-align: right;\">\n",
       "      <th></th>\n",
       "      <th>id</th>\n",
       "      <th>f0</th>\n",
       "      <th>f1</th>\n",
       "      <th>f2</th>\n",
       "      <th>product</th>\n",
       "    </tr>\n",
       "  </thead>\n",
       "  <tbody>\n",
       "    <tr>\n",
       "      <th>0</th>\n",
       "      <td>fwXo0</td>\n",
       "      <td>-1.146987</td>\n",
       "      <td>0.963328</td>\n",
       "      <td>-0.828965</td>\n",
       "      <td>27.758673</td>\n",
       "    </tr>\n",
       "    <tr>\n",
       "      <th>1</th>\n",
       "      <td>WJtFt</td>\n",
       "      <td>0.262778</td>\n",
       "      <td>0.269839</td>\n",
       "      <td>-2.530187</td>\n",
       "      <td>56.069697</td>\n",
       "    </tr>\n",
       "    <tr>\n",
       "      <th>2</th>\n",
       "      <td>ovLUW</td>\n",
       "      <td>0.194587</td>\n",
       "      <td>0.289035</td>\n",
       "      <td>-5.586433</td>\n",
       "      <td>62.871910</td>\n",
       "    </tr>\n",
       "    <tr>\n",
       "      <th>3</th>\n",
       "      <td>q6cA6</td>\n",
       "      <td>2.236060</td>\n",
       "      <td>-0.553760</td>\n",
       "      <td>0.930038</td>\n",
       "      <td>114.572842</td>\n",
       "    </tr>\n",
       "    <tr>\n",
       "      <th>4</th>\n",
       "      <td>WPMUX</td>\n",
       "      <td>-0.515993</td>\n",
       "      <td>1.716266</td>\n",
       "      <td>5.899011</td>\n",
       "      <td>149.600746</td>\n",
       "    </tr>\n",
       "  </tbody>\n",
       "</table>\n",
       "</div>"
      ],
      "text/plain": [
       "      id        f0        f1        f2     product\n",
       "0  fwXo0 -1.146987  0.963328 -0.828965   27.758673\n",
       "1  WJtFt  0.262778  0.269839 -2.530187   56.069697\n",
       "2  ovLUW  0.194587  0.289035 -5.586433   62.871910\n",
       "3  q6cA6  2.236060 -0.553760  0.930038  114.572842\n",
       "4  WPMUX -0.515993  1.716266  5.899011  149.600746"
      ]
     },
     "metadata": {},
     "output_type": "display_data"
    }
   ],
   "source": [
    "# Загрузка данных и вывод первых строк\n",
    "df_0 = pd.read_csv('/datasets/geo_data_0.csv')\n",
    "display(df_0.head())\n",
    "df_1 = pd.read_csv('/datasets/geo_data_1.csv')\n",
    "display(df_1.head())\n",
    "df_2 = pd.read_csv('/datasets/geo_data_2.csv')\n",
    "display(df_2.head())"
   ]
  },
  {
   "cell_type": "markdown",
   "metadata": {},
   "source": [
    "### Подготовка данных ###"
   ]
  },
  {
   "cell_type": "code",
   "execution_count": 3,
   "metadata": {},
   "outputs": [
    {
     "name": "stdout",
     "output_type": "stream",
     "text": [
      "Количество пропусков в данных df_0: id         0\n",
      "f0         0\n",
      "f1         0\n",
      "f2         0\n",
      "product    0\n",
      "dtype: int64\n",
      "Количество пропусков в данных df_1: id         0\n",
      "f0         0\n",
      "f1         0\n",
      "f2         0\n",
      "product    0\n",
      "dtype: int64\n",
      "Количество пропусков в данных df_2: id         0\n",
      "f0         0\n",
      "f1         0\n",
      "f2         0\n",
      "product    0\n",
      "dtype: int64\n"
     ]
    }
   ],
   "source": [
    "# Проверка данных на наличие пропусков\n",
    "print(f'Количество пропусков в данных df_0: {df_0.isna().sum()}')\n",
    "print(f'Количество пропусков в данных df_1: {df_1.isna().sum()}')\n",
    "print(f'Количество пропусков в данных df_2: {df_2.isna().sum()}')"
   ]
  },
  {
   "cell_type": "code",
   "execution_count": 4,
   "metadata": {},
   "outputs": [
    {
     "name": "stdout",
     "output_type": "stream",
     "text": [
      "Количество явных дубликатов в данных df_0: 0\n",
      "Количество явных дубликатов в данных df_1: 0\n",
      "Количество явных дубликатов в данных df_2: 0\n"
     ]
    }
   ],
   "source": [
    "# Проверка на наличие явных дубликатов\n",
    "print(f'Количество явных дубликатов в данных df_0: {df_0.duplicated().sum()}')\n",
    "print(f'Количество явных дубликатов в данных df_1: {df_1.duplicated().sum()}')\n",
    "print(f'Количество явных дубликатов в данных df_2: {df_2.duplicated().sum()}')"
   ]
  },
  {
   "cell_type": "code",
   "execution_count": 5,
   "metadata": {},
   "outputs": [
    {
     "name": "stdout",
     "output_type": "stream",
     "text": [
      "<class 'pandas.core.frame.DataFrame'>\n",
      "RangeIndex: 100000 entries, 0 to 99999\n",
      "Data columns (total 5 columns):\n",
      " #   Column   Non-Null Count   Dtype  \n",
      "---  ------   --------------   -----  \n",
      " 0   id       100000 non-null  object \n",
      " 1   f0       100000 non-null  float64\n",
      " 2   f1       100000 non-null  float64\n",
      " 3   f2       100000 non-null  float64\n",
      " 4   product  100000 non-null  float64\n",
      "dtypes: float64(4), object(1)\n",
      "memory usage: 3.8+ MB\n",
      "None\n",
      "<class 'pandas.core.frame.DataFrame'>\n",
      "RangeIndex: 100000 entries, 0 to 99999\n",
      "Data columns (total 5 columns):\n",
      " #   Column   Non-Null Count   Dtype  \n",
      "---  ------   --------------   -----  \n",
      " 0   id       100000 non-null  object \n",
      " 1   f0       100000 non-null  float64\n",
      " 2   f1       100000 non-null  float64\n",
      " 3   f2       100000 non-null  float64\n",
      " 4   product  100000 non-null  float64\n",
      "dtypes: float64(4), object(1)\n",
      "memory usage: 3.8+ MB\n",
      "None\n",
      "<class 'pandas.core.frame.DataFrame'>\n",
      "RangeIndex: 100000 entries, 0 to 99999\n",
      "Data columns (total 5 columns):\n",
      " #   Column   Non-Null Count   Dtype  \n",
      "---  ------   --------------   -----  \n",
      " 0   id       100000 non-null  object \n",
      " 1   f0       100000 non-null  float64\n",
      " 2   f1       100000 non-null  float64\n",
      " 3   f2       100000 non-null  float64\n",
      " 4   product  100000 non-null  float64\n",
      "dtypes: float64(4), object(1)\n",
      "memory usage: 3.8+ MB\n",
      "None\n"
     ]
    }
   ],
   "source": [
    "# Проверка типов данных\n",
    "print(df_0.info())\n",
    "print(df_1.info())\n",
    "print(df_2.info())"
   ]
  },
  {
   "cell_type": "code",
   "execution_count": 6,
   "metadata": {},
   "outputs": [
    {
     "name": "stdout",
     "output_type": "stream",
     "text": [
      "[[<AxesSubplot:title={'center':'f0'}> <AxesSubplot:title={'center':'f1'}>]\n",
      " [<AxesSubplot:title={'center':'f2'}>\n",
      "  <AxesSubplot:title={'center':'product'}>]]\n",
      "                  f0             f1             f2        product\n",
      "count  100000.000000  100000.000000  100000.000000  100000.000000\n",
      "mean        0.500419       0.250143       2.502647      92.500000\n",
      "std         0.871832       0.504433       3.248248      44.288691\n",
      "min        -1.408605      -0.848218     -12.088328       0.000000\n",
      "25%        -0.072580      -0.200881       0.287748      56.497507\n",
      "50%         0.502360       0.250252       2.515969      91.849972\n",
      "75%         1.073581       0.700646       4.715088     128.564089\n",
      "max         2.362331       1.343769      16.003790     185.364347\n",
      "[[<AxesSubplot:title={'center':'f0'}> <AxesSubplot:title={'center':'f1'}>]\n",
      " [<AxesSubplot:title={'center':'f2'}>\n",
      "  <AxesSubplot:title={'center':'product'}>]]\n",
      "                  f0             f1             f2        product\n",
      "count  100000.000000  100000.000000  100000.000000  100000.000000\n",
      "mean        1.141296      -4.796579       2.494541      68.825000\n",
      "std         8.965932       5.119872       1.703572      45.944423\n",
      "min       -31.609576     -26.358598      -0.018144       0.000000\n",
      "25%        -6.298551      -8.267985       1.000021      26.953261\n",
      "50%         1.153055      -4.813172       2.011479      57.085625\n",
      "75%         8.621015      -1.332816       3.999904     107.813044\n",
      "max        29.421755      18.734063       5.019721     137.945408\n",
      "[[<AxesSubplot:title={'center':'f0'}> <AxesSubplot:title={'center':'f1'}>]\n",
      " [<AxesSubplot:title={'center':'f2'}>\n",
      "  <AxesSubplot:title={'center':'product'}>]]\n",
      "                  f0             f1             f2        product\n",
      "count  100000.000000  100000.000000  100000.000000  100000.000000\n",
      "mean        0.002023      -0.002081       2.495128      95.000000\n",
      "std         1.732045       1.730417       3.473445      44.749921\n",
      "min        -8.760004      -7.084020     -11.970335       0.000000\n",
      "25%        -1.162288      -1.174820       0.130359      59.450441\n",
      "50%         0.009424      -0.009482       2.484236      94.925613\n",
      "75%         1.158535       1.163678       4.858794     130.595027\n",
      "max         7.238262       7.844801      16.739402     190.029838\n"
     ]
    },
    {
     "data": {
      "image/png": "[encoded data removed]",
      "text/plain": [
       "<Figure size 432x288 with 4 Axes>"
      ]
     },
     "metadata": {
      "needs_background": "light"
     },
     "output_type": "display_data"
    },
    {
     "data": {
      "image/png": "[encoded data removed]",
      "text/plain": [
       "<Figure size 432x288 with 4 Axes>"
      ]
     },
     "metadata": {
      "needs_background": "light"
     },
     "output_type": "display_data"
    },
    {
     "data": {
      "image/png": "[encoded data removed]",
      "text/plain": [
       "<Figure size 432x288 with 4 Axes>"
      ]
     },
     "metadata": {
      "needs_background": "light"
     },
     "output_type": "display_data"
    }
   ],
   "source": [
    "# Проверка данных на наличие ошибок и аномалий\n",
    "print(df_0.hist())\n",
    "print(df_0.describe())\n",
    "print(df_1.hist())\n",
    "print(df_1.describe())\n",
    "print(df_2.hist())\n",
    "print(df_2.describe())"
   ]
  },
  {
   "cell_type": "code",
   "execution_count": 7,
   "metadata": {},
   "outputs": [
    {
     "name": "stdout",
     "output_type": "stream",
     "text": [
      "AxesSubplot(0.125,0.125;0.62x0.755)\n"
     ]
    },
    {
     "data": {
      "image/png": "[encoded data removed]",
      "text/plain": [
       "<Figure size 432x288 with 2 Axes>"
      ]
     },
     "metadata": {
      "needs_background": "light"
     },
     "output_type": "display_data"
    }
   ],
   "source": [
    "# Матрица корреляции\n",
    "print(sns.heatmap(df_0.corr(), annot=True, fmt='.2f'))"
   ]
  },
  {
   "cell_type": "code",
   "execution_count": 8,
   "metadata": {},
   "outputs": [
    {
     "name": "stdout",
     "output_type": "stream",
     "text": [
      "AxesSubplot(0.125,0.125;0.62x0.755)\n"
     ]
    },
    {
     "data": {
      "image/png": "[encoded data removed]",
      "text/plain": [
       "<Figure size 432x288 with 2 Axes>"
      ]
     },
     "metadata": {
      "needs_background": "light"
     },
     "output_type": "display_data"
    }
   ],
   "source": [
    "print(sns.heatmap(df_1.corr(), annot=True, fmt='.2f'))"
   ]
  },
  {
   "cell_type": "code",
   "execution_count": 9,
   "metadata": {
    "scrolled": true
   },
   "outputs": [
    {
     "name": "stdout",
     "output_type": "stream",
     "text": [
      "AxesSubplot(0.125,0.125;0.62x0.755)\n"
     ]
    },
    {
     "data": {
      "image/png": "[encoded data removed]",
      "text/plain": [
       "<Figure size 432x288 with 2 Axes>"
      ]
     },
     "metadata": {
      "needs_background": "light"
     },
     "output_type": "display_data"
    }
   ],
   "source": [
    "print(sns.heatmap(df_2.corr(), annot=True, fmt='.2f'))"
   ]
  },
  {
   "cell_type": "markdown",
   "metadata": {},
   "source": [
    "**Выводы**\n",
    "\n",
    "На первом этапе была осуществлена загрузка данных, а также проведена проверка на наличие пропусков, дубликатов, корректности типов данных, ошибок и аномалий. В результате анализа было установлено, что данные являются корректными, а распределения признаков в df_0 и df_2 соответствуют нормальному распределению. Однако, в df_1 признаки f2 и product не демонстрируют нормального распределения.\n",
    "\n",
    "Дополнительно была выявлена умеренная корреляционная связь между признаками f2 и product в наборах данных df_0 и df_2, а также сильная корреляция между этими признаками в df_1."
   ]
  },
  {
   "cell_type": "markdown",
   "metadata": {},
   "source": [
    "## Обучение и проверка модели"
   ]
  },
  {
   "cell_type": "markdown",
   "metadata": {},
   "source": [
    "Для обучения модели подходит только **линейная регрессия** (остальные — недостаточно предсказуемые)."
   ]
  },
  {
   "cell_type": "code",
   "execution_count": 10,
   "metadata": {},
   "outputs": [],
   "source": [
    "#  2.1. Разделение данных на обучающую и валидационную выборки в соотношении 75:25.\n",
    "X0 = df_0.drop(['id', 'product'], axis = 1)\n",
    "y0 = df_0['product']\n",
    "X1 = df_1.drop(['id', 'product'], axis = 1)\n",
    "y1 = df_1['product']\n",
    "X2 = df_2.drop(['id', 'product'], axis = 1)\n",
    "y2 = df_2['product']\n",
    "\n",
    "X_train_0, X_valid_0,  y_train_0, y_valid_0 = train_test_split(X0, y0, test_size = 0.25, random_state = RANDOM_STATE)\n",
    "X_train_1, X_valid_1,  y_train_1, y_valid_1 = train_test_split(X1, y1, test_size = 0.25, random_state = RANDOM_STATE)\n",
    "X_train_2, X_valid_2,  y_train_2, y_valid_2 = train_test_split(X2, y2, test_size = 0.25, random_state = RANDOM_STATE)\n",
    "\n",
    "scaler = StandardScaler()\n",
    "\n",
    "X_train_0_scaler = scaler.fit_transform(X_train_0)\n",
    "X_valid_0_scaler = scaler.transform(X_valid_0)\n",
    "\n",
    "X_train_1_scaler = scaler.fit_transform(X_train_1)\n",
    "X_valid_1_scaler = scaler.transform(X_valid_1)\n",
    "\n",
    "X_train_2_scaler = scaler.fit_transform(X_train_2)\n",
    "X_valid_2_scaler = scaler.transform(X_valid_2)"
   ]
  },
  {
   "cell_type": "code",
   "execution_count": 11,
   "metadata": {},
   "outputs": [
    {
     "data": {
      "text/plain": [
       "LinearRegression()"
      ]
     },
     "execution_count": 11,
     "metadata": {},
     "output_type": "execute_result"
    }
   ],
   "source": [
    "#  2.2. Обучение модели и прогноз на валидационной выборке.\n",
    "model_lr_0 = LinearRegression()\n",
    "model_lr_1 = LinearRegression()\n",
    "model_lr_2 = LinearRegression()\n",
    "\n",
    "model_lr_0.fit(X_train_0_scaler, y_train_0)\n",
    "model_lr_1.fit(X_train_1_scaler, y_train_1)\n",
    "model_lr_2.fit(X_train_2_scaler, y_train_2)"
   ]
  },
  {
   "cell_type": "code",
   "execution_count": 12,
   "metadata": {},
   "outputs": [],
   "source": [
    "#  2.3. Сохранение предсказаний и правильных ответов на валидационной выборке.\n",
    "pred_0 = model_lr_0.predict(X_valid_0_scaler)\n",
    "pred_1 = model_lr_1.predict(X_valid_1_scaler)\n",
    "pred_2 = model_lr_2.predict(X_valid_2_scaler)"
   ]
  },
  {
   "cell_type": "code",
   "execution_count": 13,
   "metadata": {},
   "outputs": [
    {
     "name": "stdout",
     "output_type": "stream",
     "text": [
      "Cредний запас предсказанного сырья df_0: 92.39879990657768, сс: 37.75660035026169\n",
      "Cредний запас предсказанного сырья df_1: 68.7128780391376, RMSE: 0.8902801001028846\n",
      "Cредний запас предсказанного сырья df_2: 94.77102387765939, RMSE: 40.145872311342174\n"
     ]
    }
   ],
   "source": [
    "#  2.4.Средний запас предсказанного сырья и RMSE модели.\n",
    "rmse_0 = mean_squared_error(y_valid_0, pred_0, squared=False)\n",
    "rmse_1 = mean_squared_error(y_valid_1, pred_1, squared=False)\n",
    "rmse_2 = mean_squared_error(y_valid_2, pred_2, squared=False)\n",
    "\n",
    "print(f'Cредний запас предсказанного сырья df_0: {pred_0.mean()}, сс: {rmse_0}')\n",
    "print(f'Cредний запас предсказанного сырья df_1: {pred_1.mean()}, RMSE: {rmse_1}')\n",
    "print(f'Cредний запас предсказанного сырья df_2: {pred_2.mean()}, RMSE: {rmse_2}')"
   ]
  },
  {
   "cell_type": "markdown",
   "metadata": {},
   "source": [
    "**Выводы**\n",
    "\n",
    "На этапе обучения и проверки модели данные были разделены на обучающую и валидационную выборки в соотношении 75:25.  Количественные признаки были масштабированы с помощью StandardScaler. После чего данные были обучены с помощью модели LinearRegression и сделаны предсказания на валидационных выборках.\n",
    "\n",
    "Регионы df_0 и df_2 имеют лучший средний запас предсказанного сырья. При этом, регион df_1 имеет наименьшую среднеквадратичную ошибку, что свидетельствует о наибольшей точности прогнозирования запасов сырья для данного региона."
   ]
  },
  {
   "cell_type": "markdown",
   "metadata": {},
   "source": [
    "## Подготовка к расчёту прибыли"
   ]
  },
  {
   "cell_type": "markdown",
   "metadata": {},
   "source": [
    "Условия задачи:\n",
    "- При разведке региона исследуют 500 точек, из которых с помощью машинного обучения выбирают 200 лучших для разработки.\n",
    "- Бюджет на разработку скважин в регионе — 10 млрд рублей.\n",
    "- При нынешних ценах один баррель сырья приносит 450 рублей дохода. Доход с каждой единицы продукта составляет 450 тыс. рублей, поскольку объём указан в тысячах баррелей.\n",
    "- После оценки рисков нужно оставить лишь те регионы, в которых вероятность убытков меньше 2.5%. Среди них выбирают регион с наибольшей средней прибылью."
   ]
  },
  {
   "cell_type": "code",
   "execution_count": 14,
   "metadata": {},
   "outputs": [],
   "source": [
    "# 3.1. Ключевые значения для расчётов\n",
    "n = 500\n",
    "best_n = 200\n",
    "budget = 10000000000\n",
    "price = 450000\n",
    "prob_losses = 0.025\n",
    "pred_0_avg = pred_0.mean()\n",
    "pred_1_avg = pred_1.mean()\n",
    "pred_2_avg = pred_2.mean()"
   ]
  },
  {
   "cell_type": "code",
   "execution_count": 15,
   "metadata": {},
   "outputs": [
    {
     "name": "stdout",
     "output_type": "stream",
     "text": [
      "Средний предсказанный уровень добываемого сырье, меньше необходимого в регионе df_0\n",
      "Средний предсказанный уровень добываемого сырье, меньше необходимого в регионе df_1\n",
      "Средний предсказанный уровень добываемого сырье, меньше необходимого в регионе df_2\n"
     ]
    }
   ],
   "source": [
    "# 3.2. Вычисление достаточного объёма сырья для безубыточной разработки новой скважины\n",
    "budget_one = budget / best_n\n",
    "sufficient_volume_of_raw_materials = budget_one / price\n",
    "\n",
    "# Сравнение полученного объём сырья со средним запасом в каждом регионе\n",
    "if sufficient_volume_of_raw_materials > pred_0_avg:\n",
    "    print('Средний предсказанный уровень добываемого сырье, меньше необходимого в регионе df_0')\n",
    "else:\n",
    "    print('Средний предсказанный уровень добываемого сырье, больше или равно необходимому в регионе df_0')\n",
    "\n",
    "if sufficient_volume_of_raw_materials > pred_1_avg:\n",
    "    print('Средний предсказанный уровень добываемого сырье, меньше необходимого в регионе df_1')\n",
    "else:\n",
    "    print('Средний предсказанный уровень добываемого сырье, больше или равно необходимому в регионе df_1')\n",
    "\n",
    "if sufficient_volume_of_raw_materials > pred_2_avg:\n",
    "    print('Средний предсказанный уровень добываемого сырье, меньше необходимого в регионе df_2')\n",
    "else:\n",
    "    print('Средний предсказанный уровень добываемого сырье, больше или равно необходимому в регионе df_2')"
   ]
  },
  {
   "cell_type": "markdown",
   "metadata": {},
   "source": [
    "**Выводы**\n",
    "\n",
    "Во всех трех регионах средний объем предсказываемого добываемого сырья меньше, чем необходимо для безубыточного производства. Следовательно, в 200 лучших точках должны быть скважины с прогнозным значением добываемого сырья более чем 111 баррель."
   ]
  },
  {
   "cell_type": "markdown",
   "metadata": {},
   "source": [
    "## Функция для расчёта прибыли по выбранным скважинам и предсказаниям модели: ##"
   ]
  },
  {
   "cell_type": "code",
   "execution_count": 16,
   "metadata": {},
   "outputs": [],
   "source": [
    "# 4.1. Выбор скважины с максимальными значениями предсказаний\n",
    "def profit(target, pred, count=200, price=450000):\n",
    "    # лучшие 200 скважин по объему предсказания сырья\n",
    "    best = pred.argsort()[-count:]\n",
    "    selected_targets = target.iloc[best]\n",
    "    # Суммарная прибыль по всем точкам в регионе\n",
    "    total_profit = selected_targets.sum() * price\n",
    "    return total_profit"
   ]
  },
  {
   "cell_type": "code",
   "execution_count": 17,
   "metadata": {},
   "outputs": [
    {
     "name": "stdout",
     "output_type": "stream",
     "text": [
      "Прибыль по региону df_0: 13,359,141,114 руб.\n",
      "Прибыль по региону df_1: 12,415,086,697 руб.\n",
      "Прибыль по региону df_2: 12,598,571,759 руб.\n"
     ]
    }
   ],
   "source": [
    "# 4.3. Расчет прибыли для полученного объёма сырья\n",
    "profit_0 = profit(y_valid_0, pred_0)\n",
    "profit_1 = profit(y_valid_1, pred_1)\n",
    "profit_2 = profit(y_valid_2, pred_2)\n",
    "\n",
    "print(f'Прибыль по региону df_0: {profit_0:,.0f} руб.')\n",
    "print(f'Прибыль по региону df_1: {profit_1:,.0f} руб.')\n",
    "print(f'Прибыль по региону df_2: {profit_2:,.0f} руб.')\n"
   ]
  },
  {
   "cell_type": "markdown",
   "metadata": {},
   "source": [
    "## Расчёт прибыли и рисков для каждого региона:"
   ]
  },
  {
   "cell_type": "code",
   "execution_count": 18,
   "metadata": {},
   "outputs": [
    {
     "name": "stdout",
     "output_type": "stream",
     "text": [
      "Средняя прибыль df_0: 410,864,862 руб.\n",
      "95%-доверительный интервал: от -114,492,946 до 922,590,264 руб.\n",
      "Риск убытков: 5.90%\n"
     ]
    }
   ],
   "source": [
    "# 5.1. Применение техники Bootstrap с 1000 выборок, чтобы найти распределение прибыли\n",
    "def profit(data, y_true, pred):\n",
    "    data = data.copy()\n",
    "    # Добавляем предсказанные и фактические значения целевого признака \"объем сырья\"\n",
    "    data['predict'] = pred\n",
    "    data['true'] = y_true\n",
    "    # Сортируем по предсказанному объему и отбираем 200 лучших точек\n",
    "    selected = data.sort_values(by='predict', ascending=False).head(200)\n",
    "    # Рассчитываем прибыль и вычитаем необходимые расходы\n",
    "    revenue = selected['true'].sum() * 450000\n",
    "    return revenue - budget\n",
    "\n",
    "prib_0 = [] # Список для прибыли\n",
    "\n",
    "for i in range(1000): # Bootstrap\n",
    "    # Берем случайную выборку из 500 значений с возвращением \n",
    "    subsample = X_valid_0.sample(n=500, replace=True, random_state=12345 + i)\n",
    "    # По индексам подвыборки извлекаем фактические и предсказанные значения\n",
    "    true_sub = y_valid_0.loc[subsample.index]\n",
    "    pred_sub = pd.Series(pred_0, index=X_valid_0.index).loc[subsample.index]\n",
    "    profit_val = profit(subsample, true_sub, pred_sub)\n",
    "    prib_0.append(profit_val)\n",
    "\n",
    "prib_0 = pd.Series(prib_0)\n",
    "\n",
    "# 5.2. Средняя прибыль, 95%-й доверительный интервал и риск убытков.\n",
    "mean_profit = prib_0.mean()\n",
    "lower = prib_0.quantile(0.025)\n",
    "upper = prib_0.quantile(0.975)\n",
    "risk = (prib_0 < 0).mean()\n",
    "\n",
    "print(f'Средняя прибыль df_0: {mean_profit:,.0f} руб.')\n",
    "print(f'95%-доверительный интервал: от {lower:,.0f} до {upper:,.0f} руб.')\n",
    "print(f'Риск убытков: {risk*100:.2f}%')"
   ]
  },
  {
   "cell_type": "code",
   "execution_count": 19,
   "metadata": {},
   "outputs": [
    {
     "name": "stdout",
     "output_type": "stream",
     "text": [
      "Средняя прибыль df_1: 444,696,497 руб.\n",
      "95%-доверительный интервал: от 57,400,466 до 843,688,772 руб.\n",
      "Риск убытков: 1.60%\n"
     ]
    }
   ],
   "source": [
    "#  Регион df_1\n",
    "prib_1 = []\n",
    "\n",
    "for i in range(1000):\n",
    "    subsample = X_valid_1.sample(n=500, replace=True, random_state=12345 + i)\n",
    "    true_sub = y_valid_1.loc[subsample.index]\n",
    "    pred_sub = pd.Series(pred_1, index=X_valid_1.index).loc[subsample.index]\n",
    "    profit_val = profit(subsample, true_sub, pred_sub)\n",
    "    prib_1.append(profit_val)\n",
    "\n",
    "prib_1 = pd.Series(prib_1)\n",
    "\n",
    "mean_profit = prib_1.mean()\n",
    "lower = prib_1.quantile(0.025)\n",
    "upper = prib_1.quantile(0.975)\n",
    "risk = (prib_1 < 0).mean()\n",
    "\n",
    "print(f'Средняя прибыль df_1: {mean_profit:,.0f} руб.')\n",
    "print(f'95%-доверительный интервал: от {lower:,.0f} до {upper:,.0f} руб.')\n",
    "print(f'Риск убытков: {risk*100:.2f}%')"
   ]
  },
  {
   "cell_type": "code",
   "execution_count": 20,
   "metadata": {},
   "outputs": [
    {
     "name": "stdout",
     "output_type": "stream",
     "text": [
      "Средняя прибыль df_2: 392,870,293 руб.\n",
      "95%-доверительный интервал: от -161,358,170 до 907,462,242 руб.\n",
      "Риск убытков: 7.10%\n"
     ]
    }
   ],
   "source": [
    "# Регион df_2\n",
    "prib_2 = []\n",
    "\n",
    "for i in range(1000):\n",
    "    subsample = X_valid_2.sample(n=500, replace=True, random_state=12345 + i)\n",
    "    true_sub = y_valid_2.loc[subsample.index]\n",
    "    pred_sub = pd.Series(pred_2, index=X_valid_2.index).loc[subsample.index]\n",
    "    profit_val = profit(subsample, true_sub, pred_sub)\n",
    "    prib_2.append(profit_val)\n",
    "\n",
    "prib_2 = pd.Series(prib_2)\n",
    "\n",
    "mean_profit = prib_2.mean()\n",
    "lower = prib_2.quantile(0.025)\n",
    "upper = prib_2.quantile(0.975)\n",
    "risk = (prib_2 < 0).mean()\n",
    "\n",
    "print(f'Средняя прибыль df_2: {mean_profit:,.0f} руб.')\n",
    "print(f'95%-доверительный интервал: от {lower:,.0f} до {upper:,.0f} руб.')\n",
    "print(f'Риск убытков: {risk*100:.2f}%')"
   ]
  },
  {
   "cell_type": "markdown",
   "metadata": {},
   "source": [
    "**Выводы**\n",
    "\n",
    "На основании проведенного анализа и прогнозирования совокупной прибыли по регионам, были сделаны следующие выводы:\n",
    "\n",
    "* В регионе df_0 прогнозируемый объем прибыли по 200 наиболее эффективным точкам составляет 13,3 миллиарда рублей, что превышает минимально необходимый уровень для покрытия затрат в размере 10 миллиардов рублей.\n",
    "* В регионе df_1 прогнозируемый объем прибыли по 200 наиболее эффективным точкам составляет 12,4 миллиарда рублей, что также превышает минимально необходимый уровень для покрытия затрат.\n",
    "* В регионе df_2 прогнозируемый объем прибыли по 200 наиболее эффективным точкам составляет 12,6 миллиарда рублей, что соответствует минимально необходимому уровню для покрытия затрат.\n",
    "\n",
    "Дополнительно были произведены расчеты средней прибыли, доверительного интервала и вероятности убытков с использованием метода Bootstrap.\n",
    "\n",
    "Таким образом, регион df_1 демонстрирует наилучшие показатели в контексте минимизации рисков убытков. Средняя прибыль по данному региону составляет 444,7 миллиона рублей, при этом доверительный интервал варьируется от 57,4 миллиона до 843,7 миллиона рублей. Вероятность убытков составляет 1,60%.\n",
    "\n",
    "Регион df_1 является наиболее предпочтительным для разработки месторождений, поскольку, помимо низкого уровня риска убытков, с вероятностью 95% будет обеспечивать положительный финансовый результат. В отличие от регионов df_0 и df_2, где существует вероятность убытков.\n"
   ]
  },
  {
   "cell_type": "markdown",
   "metadata": {},
   "source": [
    "## Итоговый вывод ##\n",
    "\n",
    "Были предоставлены данные о трех регионах, признаки и целевой показатель — объем сырья в точке. \n",
    "\n",
    "**Задача:** разработать модель, которая отбирает 200 точек с наибольшим объемом сырья для каждого региона и рассчитывает суммарную прибыль. На основе полученных данных и оценки риска убытка предоставить рекомендации относительно оптимального места для бурения новой скважины.\n",
    "\n",
    "Для достижения поставленной цели были выполнены следующие этапы:\n",
    "\n",
    "Осуществлена загрузка данных, проведена проверка на наличие пропусков, дубликатов, корректность типов данных, ошибок и аномалий. Данные признаны корректными, а распределения df_0 и df_2 соответствуют нормальному распределению. Признаки f2 и product в наборе данных df_1 не имеют нормального распределения.\n",
    "Выявлена умеренная корреляция между признаками f2 и product в наборах данных df_0 и df_2, а также сильная корреляция между этими признаками в наборе данных df_1.\n",
    "\n",
    "Регионы df_0 и df_2 обладают лучшим средним запасом предсказанного сырья. В то же время, регион df_1 демонстрирует наименьшую среднеквадратичную ошибку, что свидетельствует о наиболее точной прогнозной модели для данного региона.\n",
    "\n",
    "Затем был проведен расчет среднего объема прогнозируемого добываемого сырья, который оказался меньше требуемого для безубыточного производства в каждом из трех регионов.\n",
    "\n",
    "На 4 этапе были рассчитаны предсказания суммарной прибыли по регионам:\n",
    "- в регионе df_0 суммарная прибыль составляет 13,3 млрд рублей;\n",
    "- в регионе df_1 суммарная прибыль составляет 12,4 млрд рублей;\n",
    "- в регионе df_2 суммарная прибыль составляет 12,6 млрд рублей.\n",
    "  \n",
    "Лучший регион, который соответствует условию риск убытков меньше 2,5%, — df_1. Со средней прибылью 444,7 млн, доверительным интервалом от 57,4 млн до 843,7 млн руб. и риском убытков: 1,60%. Данный регион является лучшим для разработки месторождений, т.к. помимо низкого риска убытков, с 95% вероятностью будет иметь положительную прибыль."
   ]
  },
  {
   "cell_type": "markdown",
   "metadata": {},
   "source": [
    "## Чек-лист готовности проекта"
   ]
  },
  {
   "cell_type": "markdown",
   "metadata": {},
   "source": [
    "- [x]  Jupyter Notebook открыт\n",
    "- [x]  Весь код выполняется без ошибок\n",
    "- [x]  Ячейки с кодом расположены в порядке исполнения\n",
    "- [x]  Выполнен шаг 1: данные подготовлены\n",
    "- [x]  Выполнен шаг 2: модели обучены и проверены\n",
    "    - [x]  Данные корректно разбиты на обучающую и валидационную выборки\n",
    "    - [x]  Модели обучены, предсказания сделаны\n",
    "    - [x]  Предсказания и правильные ответы на валидационной выборке сохранены\n",
    "    - [x]  На экране напечатаны результаты\n",
    "    - [x]  Сделаны выводы\n",
    "- [x]  Выполнен шаг 3: проведена подготовка к расчёту прибыли\n",
    "    - [x]  Для всех ключевых значений созданы константы Python\n",
    "    - [x]  Посчитано минимальное среднее количество продукта в месторождениях региона, достаточное для разработки\n",
    "    - [x]  По предыдущему пункту сделаны выводы\n",
    "    - [x]  Написана функция расчёта прибыли\n",
    "- [x]  Выполнен шаг 4: посчитаны риски и прибыль\n",
    "    - [x]  Проведена процедура *Bootstrap*\n",
    "    - [x]  Все параметры бутстрепа соответствуют условию\n",
    "    - [x]  Найдены все нужные величины\n",
    "    - [x]  Предложен регион для разработки месторождения\n",
    "    - [x]  Выбор региона обоснован"
   ]
  }
 ],
 "metadata": {
  "ExecuteTimeLog": [
   {
    "duration": 12,
    "start_time": "2025-03-28T16:34:30.916Z"
   },
   {
    "duration": 441,
    "start_time": "2025-05-09T16:25:13.197Z"
   },
   {
    "duration": 798,
    "start_time": "2025-05-09T16:25:15.124Z"
   },
   {
    "duration": 71,
    "start_time": "2025-05-09T16:33:32.936Z"
   },
   {
    "duration": 496,
    "start_time": "2025-05-09T16:33:37.477Z"
   },
   {
    "duration": 35,
    "start_time": "2025-05-09T16:33:40.520Z"
   },
   {
    "duration": 25,
    "start_time": "2025-05-09T16:34:08.965Z"
   },
   {
    "duration": 161,
    "start_time": "2025-05-09T16:35:16.737Z"
   },
   {
    "duration": 40,
    "start_time": "2025-05-09T16:36:16.027Z"
   },
   {
    "duration": 104,
    "start_time": "2025-05-09T16:37:08.767Z"
   },
   {
    "duration": 881,
    "start_time": "2025-05-09T16:38:07.836Z"
   },
   {
    "duration": 1247,
    "start_time": "2025-05-09T16:38:37.700Z"
   },
   {
    "duration": 16,
    "start_time": "2025-05-09T16:44:41.911Z"
   },
   {
    "duration": 31,
    "start_time": "2025-05-09T16:45:28.742Z"
   },
   {
    "duration": 1334,
    "start_time": "2025-05-09T16:47:50.028Z"
   },
   {
    "duration": 633,
    "start_time": "2025-05-09T16:48:30.491Z"
   },
   {
    "duration": 329,
    "start_time": "2025-05-09T16:48:54.254Z"
   },
   {
    "duration": 344,
    "start_time": "2025-05-09T16:49:09.025Z"
   },
   {
    "duration": 309,
    "start_time": "2025-05-09T16:49:20.180Z"
   },
   {
    "duration": 1837,
    "start_time": "2025-05-10T15:28:27.871Z"
   },
   {
    "duration": 479,
    "start_time": "2025-05-10T15:28:29.711Z"
   },
   {
    "duration": 27,
    "start_time": "2025-05-10T15:28:30.192Z"
   },
   {
    "duration": 171,
    "start_time": "2025-05-10T15:28:30.221Z"
   },
   {
    "duration": 48,
    "start_time": "2025-05-10T15:28:30.396Z"
   },
   {
    "duration": 1464,
    "start_time": "2025-05-10T15:28:30.447Z"
   },
   {
    "duration": 419,
    "start_time": "2025-05-10T15:28:31.913Z"
   },
   {
    "duration": 335,
    "start_time": "2025-05-10T15:28:32.335Z"
   },
   {
    "duration": 351,
    "start_time": "2025-05-10T15:28:32.672Z"
   },
   {
    "duration": 3,
    "start_time": "2025-05-10T15:28:33.025Z"
   },
   {
    "duration": 32,
    "start_time": "2025-05-10T15:28:33.029Z"
   },
   {
    "duration": 9,
    "start_time": "2025-05-10T15:28:33.064Z"
   },
   {
    "duration": 4,
    "start_time": "2025-05-10T15:28:33.075Z"
   },
   {
    "duration": 4,
    "start_time": "2025-05-10T15:34:49.564Z"
   },
   {
    "duration": 131,
    "start_time": "2025-05-10T15:39:43.434Z"
   },
   {
    "duration": 32,
    "start_time": "2025-05-10T15:39:53.885Z"
   },
   {
    "duration": 66,
    "start_time": "2025-05-10T15:40:28.775Z"
   },
   {
    "duration": 3,
    "start_time": "2025-05-10T15:41:11.726Z"
   },
   {
    "duration": 3,
    "start_time": "2025-05-10T15:41:25.366Z"
   },
   {
    "duration": 46,
    "start_time": "2025-05-10T15:42:41.706Z"
   },
   {
    "duration": 28,
    "start_time": "2025-05-10T15:44:11.865Z"
   },
   {
    "duration": 40,
    "start_time": "2025-05-10T15:44:48.942Z"
   },
   {
    "duration": 77,
    "start_time": "2025-05-10T15:44:51.841Z"
   },
   {
    "duration": 34,
    "start_time": "2025-05-10T15:46:05.525Z"
   },
   {
    "duration": 31,
    "start_time": "2025-05-10T15:46:14.066Z"
   },
   {
    "duration": 75,
    "start_time": "2025-05-10T15:46:24.945Z"
   },
   {
    "duration": 198,
    "start_time": "2025-05-10T15:46:55.931Z"
   },
   {
    "duration": 5,
    "start_time": "2025-05-10T15:48:38.692Z"
   },
   {
    "duration": 4,
    "start_time": "2025-05-10T15:49:03.587Z"
   },
   {
    "duration": 4,
    "start_time": "2025-05-10T15:51:11.084Z"
   },
   {
    "duration": 10,
    "start_time": "2025-05-10T15:53:27.207Z"
   },
   {
    "duration": 7,
    "start_time": "2025-05-10T15:53:59.176Z"
   },
   {
    "duration": 8,
    "start_time": "2025-05-10T15:54:24.457Z"
   },
   {
    "duration": 4,
    "start_time": "2025-05-10T16:10:02.246Z"
   },
   {
    "duration": 48,
    "start_time": "2025-05-10T16:12:24.043Z"
   },
   {
    "duration": 63,
    "start_time": "2025-05-10T16:12:51.535Z"
   },
   {
    "duration": 41,
    "start_time": "2025-05-10T16:12:53.513Z"
   },
   {
    "duration": 16,
    "start_time": "2025-05-10T16:12:55.443Z"
   },
   {
    "duration": 8,
    "start_time": "2025-05-10T16:12:56.756Z"
   },
   {
    "duration": 30,
    "start_time": "2025-05-10T16:13:31.844Z"
   },
   {
    "duration": 16,
    "start_time": "2025-05-10T16:13:33.484Z"
   },
   {
    "duration": 9,
    "start_time": "2025-05-10T16:13:35.083Z"
   },
   {
    "duration": 1669,
    "start_time": "2025-05-10T16:15:01.250Z"
   },
   {
    "duration": 549,
    "start_time": "2025-05-10T16:15:02.926Z"
   },
   {
    "duration": 49,
    "start_time": "2025-05-10T16:15:03.477Z"
   },
   {
    "duration": 192,
    "start_time": "2025-05-10T16:15:03.532Z"
   },
   {
    "duration": 48,
    "start_time": "2025-05-10T16:15:03.736Z"
   },
   {
    "duration": 1495,
    "start_time": "2025-05-10T16:15:03.786Z"
   },
   {
    "duration": 500,
    "start_time": "2025-05-10T16:15:05.283Z"
   },
   {
    "duration": 368,
    "start_time": "2025-05-10T16:15:05.785Z"
   },
   {
    "duration": 414,
    "start_time": "2025-05-10T16:15:06.154Z"
   },
   {
    "duration": 110,
    "start_time": "2025-05-10T16:15:06.570Z"
   },
   {
    "duration": 73,
    "start_time": "2025-05-10T16:15:06.682Z"
   },
   {
    "duration": 92,
    "start_time": "2025-05-10T16:15:06.756Z"
   },
   {
    "duration": 285,
    "start_time": "2025-05-10T16:15:06.854Z"
   },
   {
    "duration": 8,
    "start_time": "2025-05-10T16:15:29.152Z"
   },
   {
    "duration": 57,
    "start_time": "2025-05-10T16:17:40.943Z"
   },
   {
    "duration": 28,
    "start_time": "2025-05-10T16:17:51.953Z"
   },
   {
    "duration": 98,
    "start_time": "2025-05-10T16:17:59.621Z"
   },
   {
    "duration": 8,
    "start_time": "2025-05-10T16:18:06.794Z"
   },
   {
    "duration": 75,
    "start_time": "2025-05-10T16:28:29.297Z"
   },
   {
    "duration": 8,
    "start_time": "2025-05-10T16:28:33.657Z"
   },
   {
    "duration": 9,
    "start_time": "2025-05-10T16:28:40.376Z"
   },
   {
    "duration": 81,
    "start_time": "2025-05-10T17:29:44.892Z"
   },
   {
    "duration": 23,
    "start_time": "2025-05-10T17:30:02.724Z"
   },
   {
    "duration": 932,
    "start_time": "2025-05-10T17:30:08.349Z"
   },
   {
    "duration": 37,
    "start_time": "2025-05-10T17:30:19.184Z"
   },
   {
    "duration": 18,
    "start_time": "2025-05-10T17:30:34.216Z"
   },
   {
    "duration": 22,
    "start_time": "2025-05-10T17:30:37.794Z"
   },
   {
    "duration": 32,
    "start_time": "2025-05-10T17:31:39.999Z"
   },
   {
    "duration": 34,
    "start_time": "2025-05-10T17:31:47.725Z"
   },
   {
    "duration": 4,
    "start_time": "2025-05-10T17:38:55.272Z"
   },
   {
    "duration": 5,
    "start_time": "2025-05-10T17:40:50.975Z"
   },
   {
    "duration": 17,
    "start_time": "2025-05-10T17:42:22.876Z"
   },
   {
    "duration": 7,
    "start_time": "2025-05-10T17:42:39.199Z"
   },
   {
    "duration": 10,
    "start_time": "2025-05-10T17:42:47.503Z"
   },
   {
    "duration": 6,
    "start_time": "2025-05-10T17:45:13.036Z"
   },
   {
    "duration": 5,
    "start_time": "2025-05-10T17:45:49.248Z"
   },
   {
    "duration": 13,
    "start_time": "2025-05-10T18:08:37.885Z"
   },
   {
    "duration": 4,
    "start_time": "2025-05-10T18:09:03.071Z"
   },
   {
    "duration": 19,
    "start_time": "2025-05-10T18:09:37.613Z"
   },
   {
    "duration": 1592,
    "start_time": "2025-05-10T18:11:18.871Z"
   },
   {
    "duration": 539,
    "start_time": "2025-05-10T18:11:20.465Z"
   },
   {
    "duration": 44,
    "start_time": "2025-05-10T18:11:21.006Z"
   },
   {
    "duration": 206,
    "start_time": "2025-05-10T18:11:21.054Z"
   },
   {
    "duration": 76,
    "start_time": "2025-05-10T18:11:21.263Z"
   },
   {
    "duration": 1427,
    "start_time": "2025-05-10T18:11:21.345Z"
   },
   {
    "duration": 494,
    "start_time": "2025-05-10T18:11:22.774Z"
   },
   {
    "duration": 380,
    "start_time": "2025-05-10T18:11:23.269Z"
   },
   {
    "duration": 417,
    "start_time": "2025-05-10T18:11:23.651Z"
   },
   {
    "duration": 104,
    "start_time": "2025-05-10T18:11:24.070Z"
   },
   {
    "duration": 39,
    "start_time": "2025-05-10T18:11:24.176Z"
   },
   {
    "duration": 31,
    "start_time": "2025-05-10T18:11:24.217Z"
   },
   {
    "duration": 27,
    "start_time": "2025-05-10T18:11:24.309Z"
   },
   {
    "duration": 67,
    "start_time": "2025-05-10T18:11:24.342Z"
   },
   {
    "duration": 19,
    "start_time": "2025-05-10T18:11:24.412Z"
   },
   {
    "duration": 158,
    "start_time": "2025-05-10T18:11:24.434Z"
   },
   {
    "duration": 28,
    "start_time": "2025-05-10T18:11:33.910Z"
   },
   {
    "duration": 16,
    "start_time": "2025-05-10T18:11:38.433Z"
   },
   {
    "duration": 7,
    "start_time": "2025-05-10T18:12:00.857Z"
   },
   {
    "duration": 1824,
    "start_time": "2025-05-11T17:27:03.543Z"
   },
   {
    "duration": 461,
    "start_time": "2025-05-11T17:27:05.370Z"
   },
   {
    "duration": 26,
    "start_time": "2025-05-11T17:27:05.833Z"
   },
   {
    "duration": 322,
    "start_time": "2025-05-11T17:27:05.861Z"
   },
   {
    "duration": 47,
    "start_time": "2025-05-11T17:27:06.184Z"
   },
   {
    "duration": 1312,
    "start_time": "2025-05-11T17:27:06.233Z"
   },
   {
    "duration": 433,
    "start_time": "2025-05-11T17:27:07.547Z"
   },
   {
    "duration": 353,
    "start_time": "2025-05-11T17:27:07.982Z"
   },
   {
    "duration": 326,
    "start_time": "2025-05-11T17:27:08.337Z"
   },
   {
    "duration": 85,
    "start_time": "2025-05-11T17:27:08.666Z"
   },
   {
    "duration": 161,
    "start_time": "2025-05-11T17:27:08.753Z"
   },
   {
    "duration": 93,
    "start_time": "2025-05-11T17:27:08.919Z"
   },
   {
    "duration": 189,
    "start_time": "2025-05-11T17:27:09.017Z"
   },
   {
    "duration": 4,
    "start_time": "2025-05-11T17:27:09.208Z"
   },
   {
    "duration": 6,
    "start_time": "2025-05-11T17:27:09.213Z"
   },
   {
    "duration": 14,
    "start_time": "2025-05-11T17:27:09.221Z"
   },
   {
    "duration": 10,
    "start_time": "2025-05-11T17:27:09.237Z"
   },
   {
    "duration": 4,
    "start_time": "2025-05-11T17:27:09.249Z"
   },
   {
    "duration": 122,
    "start_time": "2025-05-11T17:30:20.492Z"
   },
   {
    "duration": 14,
    "start_time": "2025-05-11T17:31:50.462Z"
   },
   {
    "duration": 4,
    "start_time": "2025-05-11T17:39:48.131Z"
   },
   {
    "duration": 11,
    "start_time": "2025-05-11T17:40:17.125Z"
   },
   {
    "duration": 5,
    "start_time": "2025-05-11T17:50:34.958Z"
   },
   {
    "duration": 11,
    "start_time": "2025-05-11T17:51:17.384Z"
   },
   {
    "duration": 14,
    "start_time": "2025-05-11T17:51:31.796Z"
   },
   {
    "duration": 12,
    "start_time": "2025-05-11T18:00:18.094Z"
   },
   {
    "duration": 14,
    "start_time": "2025-05-11T18:06:15.497Z"
   },
   {
    "duration": 13,
    "start_time": "2025-05-11T18:07:26.634Z"
   },
   {
    "duration": 5,
    "start_time": "2025-05-11T18:10:20.087Z"
   },
   {
    "duration": 8225,
    "start_time": "2025-05-11T18:10:41.027Z"
   },
   {
    "duration": 1508,
    "start_time": "2025-05-11T18:17:34.800Z"
   },
   {
    "duration": 3,
    "start_time": "2025-05-11T18:23:17.160Z"
   },
   {
    "duration": 3,
    "start_time": "2025-05-11T18:23:24.615Z"
   },
   {
    "duration": 68,
    "start_time": "2025-05-11T18:23:29.739Z"
   },
   {
    "duration": 3,
    "start_time": "2025-05-11T18:23:33.773Z"
   },
   {
    "duration": 19,
    "start_time": "2025-05-11T18:28:37.793Z"
   },
   {
    "duration": 1450,
    "start_time": "2025-05-11T18:29:07.782Z"
   },
   {
    "duration": 1467,
    "start_time": "2025-05-11T18:30:16.322Z"
   },
   {
    "duration": 1488,
    "start_time": "2025-05-11T18:32:35.129Z"
   },
   {
    "duration": 1472,
    "start_time": "2025-05-11T18:33:22.386Z"
   },
   {
    "duration": 1507,
    "start_time": "2025-05-11T18:33:30.100Z"
   },
   {
    "duration": 3,
    "start_time": "2025-05-11T18:34:04.141Z"
   },
   {
    "duration": 11,
    "start_time": "2025-05-11T18:34:06.832Z"
   },
   {
    "duration": 12,
    "start_time": "2025-05-11T18:34:23.553Z"
   },
   {
    "duration": 1512,
    "start_time": "2025-05-11T18:34:33.737Z"
   },
   {
    "duration": 455,
    "start_time": "2025-05-11T18:34:35.251Z"
   },
   {
    "duration": 23,
    "start_time": "2025-05-11T18:34:35.707Z"
   },
   {
    "duration": 154,
    "start_time": "2025-05-11T18:34:35.732Z"
   },
   {
    "duration": 45,
    "start_time": "2025-05-11T18:34:35.888Z"
   },
   {
    "duration": 1189,
    "start_time": "2025-05-11T18:34:35.934Z"
   },
   {
    "duration": 405,
    "start_time": "2025-05-11T18:34:37.125Z"
   },
   {
    "duration": 297,
    "start_time": "2025-05-11T18:34:37.532Z"
   },
   {
    "duration": 309,
    "start_time": "2025-05-11T18:34:37.830Z"
   },
   {
    "duration": 76,
    "start_time": "2025-05-11T18:34:38.141Z"
   },
   {
    "duration": 21,
    "start_time": "2025-05-11T18:34:38.219Z"
   },
   {
    "duration": 6,
    "start_time": "2025-05-11T18:34:38.242Z"
   },
   {
    "duration": 67,
    "start_time": "2025-05-11T18:34:38.250Z"
   },
   {
    "duration": 3,
    "start_time": "2025-05-11T18:34:38.406Z"
   },
   {
    "duration": 11,
    "start_time": "2025-05-11T18:34:38.411Z"
   },
   {
    "duration": 5,
    "start_time": "2025-05-11T18:34:38.423Z"
   },
   {
    "duration": 16,
    "start_time": "2025-05-11T18:34:38.430Z"
   },
   {
    "duration": 60,
    "start_time": "2025-05-11T18:34:38.448Z"
   },
   {
    "duration": 0,
    "start_time": "2025-05-11T18:34:38.510Z"
   },
   {
    "duration": 0,
    "start_time": "2025-05-11T18:34:38.511Z"
   },
   {
    "duration": 4,
    "start_time": "2025-05-11T18:37:50.751Z"
   },
   {
    "duration": 4,
    "start_time": "2025-05-11T18:44:13.975Z"
   },
   {
    "duration": 171,
    "start_time": "2025-05-11T18:45:52.019Z"
   },
   {
    "duration": 121,
    "start_time": "2025-05-11T18:48:26.549Z"
   },
   {
    "duration": 17,
    "start_time": "2025-05-11T18:48:41.212Z"
   },
   {
    "duration": 26,
    "start_time": "2025-05-11T18:49:14.960Z"
   },
   {
    "duration": 18,
    "start_time": "2025-05-11T18:49:31.886Z"
   },
   {
    "duration": 17,
    "start_time": "2025-05-11T18:49:54.023Z"
   },
   {
    "duration": 17,
    "start_time": "2025-05-11T18:49:58.235Z"
   },
   {
    "duration": 1405,
    "start_time": "2025-05-11T18:58:56.684Z"
   },
   {
    "duration": 72,
    "start_time": "2025-05-11T19:01:47.067Z"
   },
   {
    "duration": 5,
    "start_time": "2025-05-11T19:01:55.309Z"
   },
   {
    "duration": 4148,
    "start_time": "2025-05-11T19:02:11.528Z"
   },
   {
    "duration": 4135,
    "start_time": "2025-05-11T19:02:16.490Z"
   },
   {
    "duration": 4127,
    "start_time": "2025-05-11T19:02:27.089Z"
   },
   {
    "duration": 4,
    "start_time": "2025-05-11T19:02:47.282Z"
   },
   {
    "duration": 14,
    "start_time": "2025-05-11T19:02:58.249Z"
   },
   {
    "duration": 4739,
    "start_time": "2025-05-11T19:07:40.447Z"
   },
   {
    "duration": 3,
    "start_time": "2025-05-11T19:08:45.253Z"
   },
   {
    "duration": 4,
    "start_time": "2025-05-11T19:08:56.037Z"
   },
   {
    "duration": 13,
    "start_time": "2025-05-11T19:09:09.325Z"
   },
   {
    "duration": 2100,
    "start_time": "2025-05-11T19:09:52.937Z"
   },
   {
    "duration": 2054,
    "start_time": "2025-05-11T19:10:19.464Z"
   },
   {
    "duration": 2083,
    "start_time": "2025-05-11T19:10:45.067Z"
   },
   {
    "duration": 2043,
    "start_time": "2025-05-11T19:11:06.156Z"
   },
   {
    "duration": 2168,
    "start_time": "2025-05-11T19:11:15.122Z"
   },
   {
    "duration": 2314,
    "start_time": "2025-05-11T19:13:32.809Z"
   },
   {
    "duration": 2318,
    "start_time": "2025-05-11T19:13:59.529Z"
   },
   {
    "duration": 2298,
    "start_time": "2025-05-11T19:15:30.613Z"
   },
   {
    "duration": 3,
    "start_time": "2025-05-11T19:16:59.068Z"
   },
   {
    "duration": 1804,
    "start_time": "2025-05-12T18:16:47.599Z"
   },
   {
    "duration": 521,
    "start_time": "2025-05-12T18:16:49.405Z"
   },
   {
    "duration": 24,
    "start_time": "2025-05-12T18:16:49.928Z"
   },
   {
    "duration": 200,
    "start_time": "2025-05-12T18:16:49.954Z"
   },
   {
    "duration": 56,
    "start_time": "2025-05-12T18:16:50.156Z"
   },
   {
    "duration": 1309,
    "start_time": "2025-05-12T18:16:50.214Z"
   },
   {
    "duration": 507,
    "start_time": "2025-05-12T18:16:51.525Z"
   },
   {
    "duration": 344,
    "start_time": "2025-05-12T18:16:52.033Z"
   },
   {
    "duration": 335,
    "start_time": "2025-05-12T18:16:52.380Z"
   },
   {
    "duration": 94,
    "start_time": "2025-05-12T18:16:52.717Z"
   },
   {
    "duration": 156,
    "start_time": "2025-05-12T18:16:52.812Z"
   },
   {
    "duration": 33,
    "start_time": "2025-05-12T18:16:52.971Z"
   },
   {
    "duration": 103,
    "start_time": "2025-05-12T18:16:53.072Z"
   },
   {
    "duration": 9,
    "start_time": "2025-05-12T18:16:53.182Z"
   },
   {
    "duration": 8,
    "start_time": "2025-05-12T18:16:53.198Z"
   },
   {
    "duration": 10,
    "start_time": "2025-05-12T18:16:53.209Z"
   },
   {
    "duration": 13,
    "start_time": "2025-05-12T18:16:53.224Z"
   },
   {
    "duration": 2565,
    "start_time": "2025-05-12T18:16:53.239Z"
   },
   {
    "duration": 3,
    "start_time": "2025-05-12T18:16:55.806Z"
   },
   {
    "duration": 5,
    "start_time": "2025-05-12T18:16:55.810Z"
   },
   {
    "duration": 10,
    "start_time": "2025-05-12T18:16:55.817Z"
   },
   {
    "duration": 2658,
    "start_time": "2025-05-12T18:23:32.246Z"
   },
   {
    "duration": 132,
    "start_time": "2025-05-12T18:34:27.808Z"
   },
   {
    "duration": 2500,
    "start_time": "2025-05-12T18:35:53.417Z"
   },
   {
    "duration": 2502,
    "start_time": "2025-05-12T18:37:04.091Z"
   },
   {
    "duration": 1544,
    "start_time": "2025-05-12T19:33:48.895Z"
   },
   {
    "duration": 471,
    "start_time": "2025-05-12T19:33:50.442Z"
   },
   {
    "duration": 22,
    "start_time": "2025-05-12T19:33:50.915Z"
   },
   {
    "duration": 155,
    "start_time": "2025-05-12T19:33:50.940Z"
   },
   {
    "duration": 38,
    "start_time": "2025-05-12T19:33:51.097Z"
   },
   {
    "duration": 1232,
    "start_time": "2025-05-12T19:33:51.137Z"
   },
   {
    "duration": 428,
    "start_time": "2025-05-12T19:33:52.379Z"
   },
   {
    "duration": 370,
    "start_time": "2025-05-12T19:33:52.809Z"
   },
   {
    "duration": 324,
    "start_time": "2025-05-12T19:33:53.181Z"
   },
   {
    "duration": 82,
    "start_time": "2025-05-12T19:33:53.509Z"
   },
   {
    "duration": 22,
    "start_time": "2025-05-12T19:33:53.593Z"
   },
   {
    "duration": 154,
    "start_time": "2025-05-12T19:33:53.617Z"
   },
   {
    "duration": 16,
    "start_time": "2025-05-12T19:33:53.772Z"
   },
   {
    "duration": 73,
    "start_time": "2025-05-12T19:33:53.793Z"
   },
   {
    "duration": 27,
    "start_time": "2025-05-12T19:33:53.870Z"
   },
   {
    "duration": 12,
    "start_time": "2025-05-12T19:33:53.899Z"
   },
   {
    "duration": 15,
    "start_time": "2025-05-12T19:33:53.913Z"
   },
   {
    "duration": 2356,
    "start_time": "2025-05-12T19:33:53.930Z"
   },
   {
    "duration": 2324,
    "start_time": "2025-05-12T19:33:56.287Z"
   },
   {
    "duration": 2327,
    "start_time": "2025-05-12T19:33:58.613Z"
   }
  ],
  "kernelspec": {
   "display_name": "Python 3 (ipykernel)",
   "language": "python",
   "name": "python3"
  },
  "language_info": {
   "codemirror_mode": {
    "name": "ipython",
    "version": 3
   },
   "file_extension": ".py",
   "mimetype": "text/x-python",
   "name": "python",
   "nbconvert_exporter": "python",
   "pygments_lexer": "ipython3",
   "version": "3.12.7"
  },
  "toc": {
   "base_numbering": 1,
   "nav_menu": {},
   "number_sections": true,
   "sideBar": true,
   "skip_h1_title": true,
   "title_cell": "Table of Contents",
   "title_sidebar": "Contents",
   "toc_cell": false,
   "toc_position": {},
   "toc_section_display": true,
   "toc_window_display": false
  }
 },
 "nbformat": 4,
 "nbformat_minor": 4
}
